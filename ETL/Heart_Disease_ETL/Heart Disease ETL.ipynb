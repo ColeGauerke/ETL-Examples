{
 "cells": [
  {
   "cell_type": "code",
   "execution_count": 29,
   "id": "25fc8f60",
   "metadata": {},
   "outputs": [],
   "source": [
    "import pandas as pd\n",
    "import numpy as np\n",
    "from sqlalchemy import create_engine"
   ]
  },
  {
   "cell_type": "code",
   "execution_count": 30,
   "id": "ff960ca6",
   "metadata": {},
   "outputs": [],
   "source": [
    "def extract():\n",
    "    data = pd.read_csv('heart_disease_data_with_features.csv')\n",
    "    return data"
   ]
  },
  {
   "cell_type": "code",
   "execution_count": 31,
   "id": "5d633ae2",
   "metadata": {},
   "outputs": [],
   "source": [
    "def transform(data:dict)->pd.DataFrame:\n",
    "    df = pd.DataFrame(data)\n",
    "    print(f'The number of humans in this study are: {len(df)}')\n",
    "    print('Since we are focusing on heart disease, I am interested in the outliers,\\nand not very concerned with over the age of 40')\n",
    "    #print(df.columns)\n",
    "    df = df[df[\"age\"] < 40]\n",
    "    print(f'There are {len(df)} samples under 40')\n",
    "    print(\"I also am only interested in patients with mild to severe pain\")\n",
    "    df = df[df[\"cp\"].isin([3, 4])]\n",
    "    print(f'This leaves us with {len(df)} results')\n",
    "    return df"
   ]
  },
  {
   "cell_type": "code",
   "execution_count": 32,
   "id": "c16077d6",
   "metadata": {},
   "outputs": [],
   "source": [
    "def load(df):\n",
    "    db_path = '/Users/colegauerkemacbook/Desktop/ETL/database/disease.db'\n",
    "    engine = create_engine(f'sqlite:///{db_path}')\n",
    "    df.to_sql('disease_data',con=engine,if_exists='replace',index=False)\n",
    "    df_from_db = pd.read_sql('SELECT * FROM disease_data',engine)\n",
    "    print(df_from_db.head())\n",
    "    return"
   ]
  },
  {
   "cell_type": "code",
   "execution_count": 33,
   "id": "8a5700ca",
   "metadata": {},
   "outputs": [
    {
     "name": "stdout",
     "output_type": "stream",
     "text": [
      "The number of humans in this study are: 303\n",
      "Since we are focusing on heart disease, I am interested in the outliers,\n",
      "and not very concerned with over the age of 40\n",
      "There are 15 samples under 40\n",
      "I also am only interested in patients with mild to severe pain\n",
      "This leaves us with 10 results\n",
      "   age  sex  cp  trestbps  chol  fbs  restecg  thalach  exang  oldpeak  ...  \\\n",
      "0   37    1   3       130   250    0        0      187      0      3.5  ...   \n",
      "1   39    1   3       140   321    0        2      182      0      0.0  ...   \n",
      "2   39    1   4       118   219    0        0      140      0      1.2  ...   \n",
      "3   35    0   4       138   183    0        0      182      0      1.4  ...   \n",
      "4   35    1   4       120   198    0        0      130      1      1.6  ...   \n",
      "\n",
      "   chol_trestbps_ratio  log_thalach_chol  symptom_zscore  \\\n",
      "0             1.908397          0.947695        1.595755   \n",
      "1             2.276596          0.902146       -0.800702   \n",
      "2             1.840336          0.917520        0.294821   \n",
      "3             1.316547          0.998955        0.477408   \n",
      "4             1.636364          0.921012        0.659996   \n",
      "\n",
      "   avg_chol_by_age_group thalach_chol_diff symptom_severity_diff  \\\n",
      "0             219.785714               -63              8.178571   \n",
      "1             219.785714              -139             -2.321429   \n",
      "2             219.785714               -79              2.478571   \n",
      "3             219.785714                -1              3.278571   \n",
      "4             219.785714               -68              4.078571   \n",
      "\n",
      "  age_chol_effect  thalach_risk_effect  age_trestbps_effect  chol_risk_ratio  \n",
      "0            9250             1972.850                 4810        21.645022  \n",
      "1           12519             2533.258                 5460        21.516187  \n",
      "2            8541             1360.940                 4602        20.427199  \n",
      "3            6405             1416.870                 4830        20.830962  \n",
      "4            6930             1056.900                 4200        21.686747  \n",
      "\n",
      "[5 rows x 36 columns]\n"
     ]
    }
   ],
   "source": [
    "data = extract()\n",
    "df = transform(data)\n",
    "load(df)"
   ]
  },
  {
   "cell_type": "code",
   "execution_count": null,
   "id": "f7fa70c5",
   "metadata": {},
   "outputs": [],
   "source": []
  },
  {
   "cell_type": "code",
   "execution_count": null,
   "id": "be69905c",
   "metadata": {},
   "outputs": [],
   "source": []
  }
 ],
 "metadata": {
  "kernelspec": {
   "display_name": "Python 3 (ipykernel)",
   "language": "python",
   "name": "python3"
  },
  "language_info": {
   "codemirror_mode": {
    "name": "ipython",
    "version": 3
   },
   "file_extension": ".py",
   "mimetype": "text/x-python",
   "name": "python",
   "nbconvert_exporter": "python",
   "pygments_lexer": "ipython3",
   "version": "3.11.4"
  }
 },
 "nbformat": 4,
 "nbformat_minor": 5
}
