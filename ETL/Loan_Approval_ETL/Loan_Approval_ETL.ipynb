{
 "cells": [
  {
   "cell_type": "code",
   "execution_count": 4,
   "id": "55c7302a",
   "metadata": {},
   "outputs": [],
   "source": [
    "from sqlalchemy import create_engine\n",
    "import pandas as pd\n",
    "import numpy as np"
   ]
  },
  {
   "cell_type": "code",
   "execution_count": 5,
   "id": "7436073f",
   "metadata": {},
   "outputs": [],
   "source": [
    "def extract():\n",
    "    data = pd.read_csv(\"test.csv\")\n",
    "    return data"
   ]
  },
  {
   "cell_type": "code",
   "execution_count": 6,
   "id": "566779e1",
   "metadata": {},
   "outputs": [],
   "source": [
    "def transform(data:dict)->pd.DataFrame:\n",
    "    df = pd.DataFrame(data)\n",
    "    print(f\"There are {len(df)} loan entries in this data set\")\n",
    "    # I want to single out the loans of people who have graduated,are not self-employed, and co-app. income is 0\n",
    "    df = df[df[\"Education\"] == \"Graduate\"]\n",
    "    df = df[df[\"Self_Employed\"] == \"No\"]\n",
    "    df = df[df[\"CoapplicantIncome\"] == 0]\n",
    "    # I want to only return the columns: loan amount, loan term, and loan id\n",
    "    return df[[\"Loan_ID\",\"LoanAmount\",\"Loan_Amount_Term\"]]"
   ]
  },
  {
   "cell_type": "code",
   "execution_count": 13,
   "id": "66592fde",
   "metadata": {},
   "outputs": [],
   "source": [
    "def load(df) -> pd.DataFrame:\n",
    "    db_path = '/Users/colegauerkemacbook/Desktop/ETL/database/loan.db'\n",
    "    engine = create_engine(f'sqlite:///{db_path}')\n",
    "    df.to_sql('loan_approval_data',con=engine,if_exists='replace',index=False)\n",
    "    df_from_db = pd.read_sql(\"SELECT * FROM loan_approval_data\",engine)\n",
    "    print(df_from_db.head())\n",
    "    return df_from_db"
   ]
  },
  {
   "cell_type": "code",
   "execution_count": 14,
   "id": "8a2191f2",
   "metadata": {},
   "outputs": [
    {
     "name": "stdout",
     "output_type": "stream",
     "text": [
      "There are 367 loan entries in this data set\n",
      "There are 101 entries\n",
      "    Loan_ID  LoanAmount  Loan_Amount_Term\n",
      "0  LP001015       110.0             360.0\n",
      "1  LP001083        40.0             180.0\n",
      "2  LP001096       124.0             360.0\n",
      "3  LP001099       131.0             360.0\n",
      "4  LP001128       101.0             360.0\n"
     ]
    },
    {
     "data": {
      "text/html": [
       "<div>\n",
       "<style scoped>\n",
       "    .dataframe tbody tr th:only-of-type {\n",
       "        vertical-align: middle;\n",
       "    }\n",
       "\n",
       "    .dataframe tbody tr th {\n",
       "        vertical-align: top;\n",
       "    }\n",
       "\n",
       "    .dataframe thead th {\n",
       "        text-align: right;\n",
       "    }\n",
       "</style>\n",
       "<table border=\"1\" class=\"dataframe\">\n",
       "  <thead>\n",
       "    <tr style=\"text-align: right;\">\n",
       "      <th></th>\n",
       "      <th>Loan_ID</th>\n",
       "      <th>LoanAmount</th>\n",
       "      <th>Loan_Amount_Term</th>\n",
       "    </tr>\n",
       "  </thead>\n",
       "  <tbody>\n",
       "    <tr>\n",
       "      <th>0</th>\n",
       "      <td>LP001015</td>\n",
       "      <td>110.0</td>\n",
       "      <td>360.0</td>\n",
       "    </tr>\n",
       "    <tr>\n",
       "      <th>1</th>\n",
       "      <td>LP001083</td>\n",
       "      <td>40.0</td>\n",
       "      <td>180.0</td>\n",
       "    </tr>\n",
       "    <tr>\n",
       "      <th>2</th>\n",
       "      <td>LP001096</td>\n",
       "      <td>124.0</td>\n",
       "      <td>360.0</td>\n",
       "    </tr>\n",
       "    <tr>\n",
       "      <th>3</th>\n",
       "      <td>LP001099</td>\n",
       "      <td>131.0</td>\n",
       "      <td>360.0</td>\n",
       "    </tr>\n",
       "    <tr>\n",
       "      <th>4</th>\n",
       "      <td>LP001128</td>\n",
       "      <td>101.0</td>\n",
       "      <td>360.0</td>\n",
       "    </tr>\n",
       "    <tr>\n",
       "      <th>...</th>\n",
       "      <td>...</td>\n",
       "      <td>...</td>\n",
       "      <td>...</td>\n",
       "    </tr>\n",
       "    <tr>\n",
       "      <th>96</th>\n",
       "      <td>LP002870</td>\n",
       "      <td>80.0</td>\n",
       "      <td>360.0</td>\n",
       "    </tr>\n",
       "    <tr>\n",
       "      <th>97</th>\n",
       "      <td>LP002876</td>\n",
       "      <td>176.0</td>\n",
       "      <td>360.0</td>\n",
       "    </tr>\n",
       "    <tr>\n",
       "      <th>98</th>\n",
       "      <td>LP002878</td>\n",
       "      <td>260.0</td>\n",
       "      <td>360.0</td>\n",
       "    </tr>\n",
       "    <tr>\n",
       "      <th>99</th>\n",
       "      <td>LP002899</td>\n",
       "      <td>254.0</td>\n",
       "      <td>360.0</td>\n",
       "    </tr>\n",
       "    <tr>\n",
       "      <th>100</th>\n",
       "      <td>LP002952</td>\n",
       "      <td>60.0</td>\n",
       "      <td>360.0</td>\n",
       "    </tr>\n",
       "  </tbody>\n",
       "</table>\n",
       "<p>101 rows × 3 columns</p>\n",
       "</div>"
      ],
      "text/plain": [
       "      Loan_ID  LoanAmount  Loan_Amount_Term\n",
       "0    LP001015       110.0             360.0\n",
       "1    LP001083        40.0             180.0\n",
       "2    LP001096       124.0             360.0\n",
       "3    LP001099       131.0             360.0\n",
       "4    LP001128       101.0             360.0\n",
       "..        ...         ...               ...\n",
       "96   LP002870        80.0             360.0\n",
       "97   LP002876       176.0             360.0\n",
       "98   LP002878       260.0             360.0\n",
       "99   LP002899       254.0             360.0\n",
       "100  LP002952        60.0             360.0\n",
       "\n",
       "[101 rows x 3 columns]"
      ]
     },
     "execution_count": 14,
     "metadata": {},
     "output_type": "execute_result"
    }
   ],
   "source": [
    "data = extract()\n",
    "df = transform(data)\n",
    "print(f\"There are {len(df)} entries\")\n",
    "load(df)"
   ]
  },
  {
   "cell_type": "code",
   "execution_count": null,
   "id": "8967130b",
   "metadata": {},
   "outputs": [],
   "source": []
  },
  {
   "cell_type": "code",
   "execution_count": null,
   "id": "c6ec20de",
   "metadata": {},
   "outputs": [],
   "source": []
  }
 ],
 "metadata": {
  "kernelspec": {
   "display_name": "Python 3 (ipykernel)",
   "language": "python",
   "name": "python3"
  },
  "language_info": {
   "codemirror_mode": {
    "name": "ipython",
    "version": 3
   },
   "file_extension": ".py",
   "mimetype": "text/x-python",
   "name": "python",
   "nbconvert_exporter": "python",
   "pygments_lexer": "ipython3",
   "version": "3.11.4"
  }
 },
 "nbformat": 4,
 "nbformat_minor": 5
}
